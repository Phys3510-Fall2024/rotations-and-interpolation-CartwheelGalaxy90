{
 "cells": [
  {
   "cell_type": "markdown",
   "id": "7eb76564-ab67-4980-b7c6-bbe8d3f86ea8",
   "metadata": {},
   "source": [
    "Back to the potential energy expansion near equilibria...\n",
    "\n",
    "$$ U = \\frac{1}{2} \\sum_{i=1,N} K_1 Q_1^2 $$  \n",
    "\n",
    "What if we have two or more of the same symmetry degrees of freedom? (e.g. many polar vectors)\n",
    "\n",
    "Let's take polar vectors to have indices $i,j$  \n",
    "Let's take axial vectors to have indices $\\alpha, \\beta$\n",
    "\n",
    "$$ U = \\frac{1}{2} \\sum_{i,j} K_{ij} Q_i Q_j + \\frac{1}{2} \\sum_{\\alpha,\\beta} K_{\\alpha\\beta} Q_{\\alpha} Q_{\\beta} $$  \n",
    "\n",
    "$$ U = \\frac{1}{2} \\vec{Q}_P \\mathbb{K_P} \\vec{Q}_P + \\frac{1}{2} \\vec{Q}_G \\mathbb{K_G} \\vec{Q}_G + \\frac{1}{2} \\vec{Q}_N \\mathbb{K_N} \\vec{Q}_N $$  \n",
    "\n",
    "$$ U = $$  \n",
    "\n",
    "$$ \\mathbb{K_{block}} = \\left\\begin{array}{cccc}\n",
    "        \\mathbb{K}_P & 0 & 0 & 0 \\\\\n",
    "        0 & \\mathbb{K}_G & 0 & 0 \\\\\n",
    "        0 & 0 & \\mathbb{K}_C & 0 \\\\\n",
    "        0 & 0 & 0 & \\mathbb{K}_N \\\\\n",
    "        \\end{array}\\right $$  \n",
    "\n",
    "Eigenvectors and eigenvalues --> unitary transformations  \n",
    "\n",
    "multiply by 1 in the form of "
   ]
  },
  {
   "cell_type": "markdown",
   "id": "bb5b93fd-67a2-4335-be03-46fe40c08e4f",
   "metadata": {},
   "source": [
    "Identity \tVertical Mirror/Inversion \tHorizontal Mirror \t180-degree Rotation \t\n",
    "Object \tSymbol \t\n",
    "Example\n",
    "Scalar \t\n",
    "1 \t1 \t1 \t1 \t\n",
    "Polar Vector \t\n",
    "1 \t-1 \t1 \t-1 \t\n",
    "Axial Vector \t\n",
    "1 \t1 \t-1 \t-1 \t\n",
    "Pseudoscalar \t\n",
    "1 \t-1 \t-1 \t1 \t\n"
   ]
  },
  {
   "cell_type": "code",
   "execution_count": null,
   "id": "bc444205-e165-400c-856d-44d3b34e7d32",
   "metadata": {},
   "outputs": [],
   "source": [
    "# Import numpy\n",
    "import numpy as np"
   ]
  }
 ],
 "metadata": {
  "kernelspec": {
   "display_name": "Python 3 (ipykernel)",
   "language": "python",
   "name": "python3"
  },
  "language_info": {
   "codemirror_mode": {
    "name": "ipython",
    "version": 3
   },
   "file_extension": ".py",
   "mimetype": "text/x-python",
   "name": "python",
   "nbconvert_exporter": "python",
   "pygments_lexer": "ipython3",
   "version": "3.9.19"
  }
 },
 "nbformat": 4,
 "nbformat_minor": 5
}
